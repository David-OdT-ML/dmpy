{
 "cells": [
  {
   "cell_type": "markdown",
   "metadata": {},
   "source": []
  },
  {
   "cell_type": "code",
   "execution_count": null,
   "metadata": {},
   "outputs": [],
   "source": [
    "from typing import Tuple\n",
    "import tensorflow as tf\n",
    "import numpy as np"
   ]
  },
  {
   "cell_type": "markdown",
   "metadata": {},
   "source": []
  },
  {
   "cell_type": "code",
   "execution_count": null,
   "metadata": {},
   "outputs": [],
   "source": [
    "n = 10\n",
    "# images is a 1 x 10 x 10 x 1 array that contains the numbers 1 through 100\n",
    "images = [[[[x * n + y + 1] for y in range(n)] for x in range(n)]]\n",
    "\n",
    "# We generate two outputs as follows:\n",
    "# 1. 3x3 patches with stride length 5\n",
    "# 2. Same as above, but the rate is increased to 2\n",
    "tf.image.extract_patches(images=images,\n",
    "                        sizes=[1, 3, 3, 1],\n",
    "                        strides=[1, 5, 5, 1],\n",
    "                        rates=[1, 1, 1, 1],\n",
    "                        padding='VALID')\n",
    "\n",
    "# Yields:\n",
    "#[[[[ 1  2  3 11 12 13 21 22 23]\n",
    "#    [ 6  7  8 16 17 18 26 27 28]]\n",
    "#[[51 52 53 61 62 63 71 72 73]\n",
    "#    [56 57 58 66 67 68 76 77 78]]]]"
   ]
  },
  {
   "cell_type": "code",
   "execution_count": null,
   "metadata": {},
   "outputs": [],
   "source": [
    "tf.image.extract_patches(images=images,\n",
    "                        sizes=[1, 3, 3, 1],\n",
    "                        strides=[1, 5, 5, 1],\n",
    "                        rates=[1, 2, 2, 1],\n",
    "                        padding='VALID')\n",
    "\n",
    "# Yields:\n",
    "#[[[[  1   3   5  21  23  25  41  43  45]\n",
    "#   [  6   8  10  26  28  30  46  48  50]]\n",
    "#\n",
    "#    [[ 51  53  55  71  73  75  91  93  95]\n",
    "#     [ 56  58  60  76  78  80  96  98 100]]]]"
   ]
  },
  {
   "cell_type": "code",
   "execution_count": null,
   "metadata": {},
   "outputs": [],
   "source": [
    "# return tensor of patches\n",
    "def extract_patches(img: tf.Tensor, \n",
    "                    patch_shape: Tuple[int, int]=(3,3), \n",
    "                    strides: Tuple[int,int]=(1,1), \n",
    "                    rates: Tuple[int, int]=(1,1)) -> tf.Tensor:\n",
    "    width, height = patch_shape\n",
    "    stridex, stridey = strides\n",
    "    ratex, ratey = rates\n",
    "    ksizes = [1, width, height, 1]\n",
    "    strides = [1, stridex, stridey, 1]\n",
    "    rates = [1, ratex, ratey, 1]\n",
    "    padding = 'VALID'  #or 'SAME'\n",
    "    return tf.image.extract_patches(img, ksizes, strides, rates, padding)    "
   ]
  },
  {
   "cell_type": "code",
   "execution_count": null,
   "metadata": {},
   "outputs": [],
   "source": [
    "x = tf.constant(4.0)\n",
    "with tf.GradientTape() as tape:\n",
    "  with tape.stop_recording():\n",
    "    y = x ** 2\n",
    "dy_dx = tape.gradient(y, x)\n",
    "print(dy_dx)"
   ]
  },
  {
   "cell_type": "code",
   "execution_count": null,
   "metadata": {},
   "outputs": [],
   "source": [
    "with tf.GradientTape() as g:\n",
    "  x  = tf.constant([1.0, 2.0])\n",
    "  g.watch(x)\n",
    "  y = x * x\n",
    "jacobian = g.jacobian(y, x)\n",
    "print(jacobian)\n",
    "# jacobian value is [[2., 0.], [0., 4.]]"
   ]
  },
  {
   "cell_type": "markdown",
   "metadata": {},
   "source": []
  },
  {
   "cell_type": "code",
   "execution_count": null,
   "metadata": {},
   "outputs": [],
   "source": [
    "def extract_patches_inverse(img:tf.Variable, patches:tf.Variable, tape:tf.GradientTape) -> tf.Tensor:\n",
    "    _x = tf.zeros_like(img)\n",
    "    _y = extract_patches(_x)\n",
    "    grad = tape.gradient(_y, _x)\n",
    "    # Divide by grad, to \"average\" together the overlapping patches\n",
    "    # otherwise they would simply sum up\n",
    "    return (tape.gradient(_y, _x, output_gradients=patches) / grad)"
   ]
  },
  {
   "cell_type": "code",
   "execution_count": null,
   "metadata": {},
   "outputs": [],
   "source": [
    "def extract_patches_inverse2(img, patches) -> tf.Tensor:\n",
    "    _x = tf.zeros_like(img)\n",
    "    _y = extract_patches(_x)\n",
    "    grad = tf.gradients(_y, _x)[0]\n",
    "    # Divide by grad, to \"average\" together the overlapping patches\n",
    "    # otherwise they would simply sum up\n",
    "    return (tf.gradients(_y, _x, output_gradients=patches)[0] / grad)"
   ]
  },
  {
   "cell_type": "code",
   "execution_count": null,
   "metadata": {},
   "outputs": [],
   "source": [
    "def test_patchify():\n",
    "    print('\\nBegin Test')\n",
    "    nx = 10\n",
    "    ny = 11\n",
    "    print('\\nCreate 2D image')\n",
    "    img = [[[[x * nx + y + 1] for y in range(ny)] for x in range(nx)]]\n",
    "    print(np.asarray(img, dtype=float).squeeze())\n",
    "    #img = [[[[x * ny + y + 1] for y in range(ny)] for x in range(nx)]]\n",
    "    print('\\nConnvert 2D image to 4D tensor')\n",
    "    imgtensor = tf.Variable(tf.convert_to_tensor(img,  dtype=float))\n",
    "    print('\\nDisplay 2D image')\n",
    "    print(tf.squeeze(imgtensor))    \n",
    "    print('\\ntf hack: set tape watch')\n",
    "    print('\\nExtract and display patches')\n",
    "    with tf.GradientTape(persistent=True) as tape:\n",
    "        #with tape.stop_recording():\n",
    "            tape.watch(imgtensor)\n",
    "            patches = extract_patches(imgtensor)\n",
    "            invtensor = extract_patches_inverse(imgtensor, patches, tape)\n",
    "    print(patches)\n",
    "    inv = tf.squeeze(invtensor).numpy()\n",
    "    print(inv)\n",
    "    img = np.asarray(img, dtype=float).squeeze()\n",
    "    assert img.all() == inv.all()\n",
    "    print('\\ntf hack: use monitored gradients to reassemble the image')\n",
    "    print('\\nDisplay reassembled tensor')\n",
    "    print(invtensor)\n",
    "    print('\\nDisplay reassembled image')\n"
   ]
  },
  {
   "cell_type": "code",
   "execution_count": null,
   "metadata": {},
   "outputs": [],
   "source": [
    "def test_patchify3():\n",
    "    print('\\nBegin Test')\n",
    "    nx = 10\n",
    "    ny = 11\n",
    "    print('\\nCreate 2D image')\n",
    "    img = [[[[x * nx + y + 1] for y in range(ny)] for x in range(nx)]]\n",
    "    print(np.asarray(img, dtype=float).squeeze())\n",
    "    #img = [[[[x * ny + y + 1] for y in range(ny)] for x in range(nx)]]\n",
    "    print('\\nConnvert 2D image to 4D tensor')\n",
    "    imgtensor = tf.Variable(tf.convert_to_tensor(img,  dtype=float))\n",
    "    print('\\nDisplay 2D image')\n",
    "    print(tf.squeeze(imgtensor))    \n",
    "    print('\\ntf hack: set tape watch')\n",
    "    print('\\nExtract and display patches')\n",
    "    with tf.GradientTape(persistent=True) as tape:\n",
    "        #with tape.stop_recording():\n",
    "            tape.watch(imgtensor)\n",
    "            patches = extract_patches(imgtensor)\n",
    "            invtensor = extract_patches_inverse(imgtensor, patches, tape)\n",
    "    print(patches)\n",
    "    inv = tf.squeeze(invtensor).numpy()\n",
    "    print(inv)\n",
    "    img = np.asarray(img, dtype=float).squeeze()\n",
    "    assert img.all() == inv.all()\n",
    "    print('\\ntf hack: use monitored gradients to reassemble the image')\n",
    "    print('\\nDisplay reassembled tensor')\n",
    "    print(invtensor)\n",
    "    print('\\nDisplay reassembled image')"
   ]
  },
  {
   "cell_type": "code",
   "execution_count": null,
   "metadata": {},
   "outputs": [],
   "source": [
    "test_patchify()"
   ]
  },
  {
   "cell_type": "code",
   "execution_count": null,
   "metadata": {},
   "outputs": [],
   "source": [
    "def test_patchify2():\n",
    "    print('\\nBegin Test')\n",
    "    nx = 10\n",
    "    ny = 11\n",
    "    print('\\nCreate 2D image')\n",
    "    img = [[[[x * nx + y + 1] for y in range(ny)] for x in range(nx)]]\n",
    "    print(np.asarray(img, dtype=float).squeeze())\n",
    "    #img = [[[[x * ny + y + 1] for y in range(ny)] for x in range(nx)]]\n",
    "    print('\\nConnvert 2D image to 4D tensor')\n",
    "    imgtensor = tf.convert_to_tensor(img,  dtype=float)\n",
    "    print('\\ntf hack: set tape watch')\n",
    "    print('\\nDisplay 2D image')\n",
    "    print(tf.squeeze(imgtensor))\n",
    "    print('\\nExtract and display patches')\n",
    "    patches = extract_patches(imgtensor)\n",
    "    print(patches)\n",
    "    print('\\ntf hack: use monitored gradients to reassemble the image')\n",
    "    invtensor = extract_patches_inverse2(imgtensor, patches)\n",
    "    print('\\nDisplay reassembled tensor')\n",
    "    print(invtensor)\n",
    "    print('\\nDisplay reassembled image')\n",
    "    inv = tf.squeeze(invtensor).numpy()\n",
    "    print(inv)\n",
    "    img = np.asarray(img, dtype=float).squeeze()\n",
    "    assert img.all() == inv.all()"
   ]
  },
  {
   "cell_type": "markdown",
   "metadata": {},
   "source": []
  },
  {
   "cell_type": "code",
   "execution_count": null,
   "metadata": {},
   "outputs": [],
   "source": [
    "test_patchify2()\n"
   ]
  }
 ],
 "metadata": {
  "kernelspec": {
   "display_name": "Python 3.8.12 64-bit (system)",
   "language": "python",
   "name": "python3"
  },
  "language_info": {
   "codemirror_mode": {
    "name": "ipython",
    "version": 3
   },
   "file_extension": ".py",
   "mimetype": "text/x-python",
   "name": "python",
   "nbconvert_exporter": "python",
   "pygments_lexer": "ipython3",
   "version": "3.8.12"
  },
  "orig_nbformat": 4,
  "vscode": {
   "interpreter": {
    "hash": "7c75a62ca8e33136977f10f7730c1f4500907d92669a89ca5d3d1996158f42ca"
   }
  }
 },
 "nbformat": 4,
 "nbformat_minor": 2
}
